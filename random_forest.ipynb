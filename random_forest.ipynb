{
 "cells": [
  {
   "cell_type": "code",
   "execution_count": 45,
   "id": "1e883deb",
   "metadata": {},
   "outputs": [
    {
     "data": {
      "image/png": "[encoded data removed]",
      "text/plain": [
       "<Figure size 432x288 with 1 Axes>"
      ]
     },
     "metadata": {},
     "output_type": "display_data"
    }
   ],
   "source": [
    "import pandas as pd\n",
    "df = pd.read_csv(\"./preprocess/carrefour_v1_department.csv\")\n",
    "df = df.drop(columns = \"Unnamed: 0\")\n",
    "\n",
    "toplot=[]\n",
    "\n",
    "for i in range (14):\n",
    "    obj = str(i)+'_count'\n",
    "    counts = df[obj].sum()\n",
    "    toplot.append(counts)\n",
    "\n",
    "import matplotlib.pyplot as plt\n",
    "#plt.pie(toplot)\n",
    "plt.pie(toplot,                             # 標籤           # 設定分隔的區塊位置\n",
    "        pctdistance = 0.6,  \n",
    "        labels=[0,1,2,3,4,5,6,7,8,9,10,11,12,13],# 數字距圓心的距離\n",
    "        textprops = {\"fontsize\" : 12},\n",
    "        center=(10,10),# 文字大小\n",
    "       radius=1)    \n",
    "plt.legend()\n",
    "plt.title('Distribution of Departments')\n",
    "plt.show()"
   ]
  },
  {
   "cell_type": "code",
   "execution_count": 13,
   "id": "ef0c5273",
   "metadata": {},
   "outputs": [
    {
     "name": "stdout",
     "output_type": "stream",
     "text": [
      "0.8\n",
      "0.5\n",
      "0.7333333333333333\n",
      "0.0\n",
      "0.7333333333333333\n",
      "0.3333333333333333\n"
     ]
    }
   ],
   "source": [
    "import numpy as np\n",
    "import pandas as pd\n",
    "from sklearn.model_selection import train_test_split\n",
    "from sklearn.tree import DecisionTreeClassifier\n",
    "from sklearn import tree\n",
    "from sklearn.metrics import confusion_matrix\n",
    "from sklearn.metrics import recall_score,accuracy_score\n",
    "from sklearn.metrics import precision_score\n",
    "import matplotlib.pyplot as plt\n",
    "from sklearn.ensemble import RandomForestClassifier\n",
    "from sklearn.neighbors import KNeighborsClassifier\n",
    "import time\n",
    "\n",
    "time1=time.time()\n",
    "\n",
    "df = pd.read_csv(\"carrefour_v1_department.csv\")\n",
    "df = df.drop(columns = \"Unnamed: 0\")\n",
    "features = df.iloc[:,0:17]\n",
    "target = df.iloc[:,17:32]\n",
    "\n",
    "X_train,X_test, y_train, y_test =train_test_split(features,target,test_size=0.3,random_state=1)\n",
    "\n",
    "#model=DecisionTreeClassifier(max_depth=4,random_state=1)\n",
    "model=RandomForestClassifier(n_estimators = 100,random_state=1)\n",
    "\n",
    "model.fit(X_train, y_train)\n",
    "ypredict=model.predict(X_test)\n",
    "\n",
    "y_test=y_test.values.tolist()\n",
    "\n",
    "for i, j in zip(ypredict,y_test):\n",
    "    print(accuracy_score(i,j))\n",
    "    print(precision_score(i,j))\n",
    "\n"
   ]
  },
  {
   "cell_type": "code",
   "execution_count": null,
   "id": "07c5c070",
   "metadata": {},
   "outputs": [],
   "source": [
    "import matplotlib.pyplot as plt\n",
    "from matplotlib.patches import ConnectionPatch\n",
    "import numpy as np\n",
    "\n",
    "# make figure and assign axis objects\n",
    "fig, (ax1, ax2) = plt.subplots(1, 2, figsize=(9, 5))\n",
    "fig.subplots_adjust(wspace=0)\n",
    "\n",
    "# pie chart parameters\n",
    "overall_ratios = [.27, .56, .17]\n",
    "labels = ['Approve', 'Disapprove', 'Undecided']\n",
    "explode = [0.1, 0, 0]\n",
    "# rotate so that first wedge is split by the x-axis\n",
    "angle = -180 * overall_ratios[0]\n",
    "wedges, *_ = ax1.pie(overall_ratios, autopct='%1.1f%%', startangle=angle,\n",
    "                     labels=labels, explode=explode)\n",
    "\n",
    "# bar chart parameters\n",
    "age_ratios = [.33, .54, .07, .06]\n",
    "age_labels = ['Under 35', '35-49', '50-65', 'Over 65']\n",
    "bottom = 1\n",
    "width = .2\n",
    "\n",
    "# Adding from the top matches the legend.\n",
    "for j, (height, label) in enumerate(reversed([*zip(age_ratios, age_labels)])):\n",
    "    bottom -= height\n",
    "    bc = ax2.bar(0, height, width, bottom=bottom, color='C0', label=label,\n",
    "                 alpha=0.1 + 0.25 * j)\n",
    "    ax2.bar_label(bc, labels=[f\"{height:.0%}\"], label_type='center')\n",
    "\n",
    "ax2.set_title('Age of approvers')\n",
    "ax2.legend()\n",
    "ax2.axis('off')\n",
    "ax2.set_xlim(- 2.5 * width, 2.5 * width)\n",
    "\n",
    "# use ConnectionPatch to draw lines between the two plots\n",
    "theta1, theta2 = wedges[0].theta1, wedges[0].theta2\n",
    "center, r = wedges[0].center, wedges[0].r\n",
    "bar_height = sum(age_ratios)\n",
    "\n",
    "# draw top connecting line\n",
    "x = r * np.cos(np.pi / 180 * theta2) + center[0]\n",
    "y = r * np.sin(np.pi / 180 * theta2) + center[1]\n",
    "con = ConnectionPatch(xyA=(-width / 2, bar_height), coordsA=ax2.transData,\n",
    "                      xyB=(x, y), coordsB=ax1.transData)\n",
    "con.set_color([0, 0, 0])\n",
    "con.set_linewidth(4)\n",
    "ax2.add_artist(con)\n",
    "\n",
    "# draw bottom connecting line\n",
    "x = r * np.cos(np.pi / 180 * theta1) + center[0]\n",
    "y = r * np.sin(np.pi / 180 * theta1) + center[1]\n",
    "con = ConnectionPatch(xyA=(-width / 2, 0), coordsA=ax2.transData,\n",
    "                      xyB=(x, y), coordsB=ax1.transData)\n",
    "con.set_color([0, 0, 0])\n",
    "ax2.add_artist(con)\n",
    "con.set_linewidth(4)\n",
    "\n",
    "plt.show()"
   ]
  }
 ],
 "metadata": {
  "kernelspec": {
   "display_name": "Python 3",
   "language": "python",
   "name": "python3"
  },
  "language_info": {
   "codemirror_mode": {
    "name": "ipython",
    "version": 3
   },
   "file_extension": ".py",
   "mimetype": "text/x-python",
   "name": "python",
   "nbconvert_exporter": "python",
   "pygments_lexer": "ipython3",
   "version": "3.8.8"
  }
 },
 "nbformat": 4,
 "nbformat_minor": 5
}
